{
 "cells": [
  {
   "cell_type": "code",
   "execution_count": 3,
   "id": "5b9d00b1-ddad-457e-9c4e-198f11c8398c",
   "metadata": {},
   "outputs": [
    {
     "data": {
      "text/plain": [
       "<function __main__.<lambda>(var)>"
      ]
     },
     "execution_count": 3,
     "metadata": {},
     "output_type": "execute_result"
    }
   ],
   "source": [
    "# lambda expressions and functions\n",
    "lambda var: var*2"
   ]
  },
  {
   "cell_type": "code",
   "execution_count": 5,
   "id": "a0b8832a-a372-4415-9b45-ba9774e52a27",
   "metadata": {},
   "outputs": [],
   "source": [
    "seq = [1,2,3,4,5,6]"
   ]
  },
  {
   "cell_type": "code",
   "execution_count": 6,
   "id": "57003afb-9086-488d-8176-47c18af8436f",
   "metadata": {},
   "outputs": [
    {
     "data": {
      "text/plain": [
       "[2, 4, 6, 8, 10, 12]"
      ]
     },
     "execution_count": 6,
     "metadata": {},
     "output_type": "execute_result"
    }
   ],
   "source": [
    "list(map(lambda var:var*2, seq))"
   ]
  },
  {
   "cell_type": "code",
   "execution_count": 12,
   "id": "76774ee0-07cc-4aee-89ef-cd48ab842e89",
   "metadata": {},
   "outputs": [],
   "source": [
    "def is_even(num):\n",
    "    return num%2 == 0"
   ]
  },
  {
   "cell_type": "code",
   "execution_count": 13,
   "id": "b1bc9d93-659b-4a0f-a6a2-41e4b1ac3c03",
   "metadata": {},
   "outputs": [
    {
     "data": {
      "text/plain": [
       "[2, 4, 6]"
      ]
     },
     "execution_count": 13,
     "metadata": {},
     "output_type": "execute_result"
    }
   ],
   "source": [
    "list(filter(is_even, seq))"
   ]
  },
  {
   "cell_type": "code",
   "execution_count": 14,
   "id": "943b67d1-5c0f-425e-b436-34e9288dbc2c",
   "metadata": {},
   "outputs": [
    {
     "data": {
      "text/plain": [
       "[2, 4, 6]"
      ]
     },
     "execution_count": 14,
     "metadata": {},
     "output_type": "execute_result"
    }
   ],
   "source": [
    "list(filter(lambda var: var%2==0, seq)) # using lambda expressions for a one time use functions."
   ]
  },
  {
   "cell_type": "code",
   "execution_count": 15,
   "id": "0104d411-5fd2-417c-9d01-2c78b7a85d61",
   "metadata": {},
   "outputs": [
    {
     "data": {
      "text/plain": [
       "['I', 'was', 'looking', 'for', 'you!']"
      ]
     },
     "execution_count": 15,
     "metadata": {},
     "output_type": "execute_result"
    }
   ],
   "source": [
    "# String operations\n",
    "tweet = \"I was looking for you!\"\n",
    "tweet.split()"
   ]
  },
  {
   "cell_type": "code",
   "execution_count": 23,
   "id": "9535eb17-c898-44e2-a626-10c6f2417bd3",
   "metadata": {},
   "outputs": [
    {
     "data": {
      "text/plain": [
       "['Well this is ', 'great ', 'NO']"
      ]
     },
     "execution_count": 23,
     "metadata": {},
     "output_type": "execute_result"
    }
   ],
   "source": [
    "tweet = \"Well this is #great #NO\"\n",
    "tweet.split('#')[:]"
   ]
  },
  {
   "cell_type": "code",
   "execution_count": null,
   "id": "15ae68b7-2bcb-4d13-af21-06ca7d9baaa4",
   "metadata": {},
   "outputs": [],
   "source": []
  }
 ],
 "metadata": {
  "kernelspec": {
   "display_name": "Python 3 (ipykernel)",
   "language": "python",
   "name": "python3"
  },
  "language_info": {
   "codemirror_mode": {
    "name": "ipython",
    "version": 3
   },
   "file_extension": ".py",
   "mimetype": "text/x-python",
   "name": "python",
   "nbconvert_exporter": "python",
   "pygments_lexer": "ipython3",
   "version": "3.11.4"
  }
 },
 "nbformat": 4,
 "nbformat_minor": 5
}
