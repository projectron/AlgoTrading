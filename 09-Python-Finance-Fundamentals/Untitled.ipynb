{
 "cells": [
  {
   "cell_type": "code",
   "execution_count": 3,
   "id": "bcb58aba-e750-4cba-8277-4fee1e716da0",
   "metadata": {},
   "outputs": [],
   "source": [
    "import numpy as np\n",
    "import pandas as pd\n",
    "import matplotlib.pyplot as plt\n",
    "import yfinance as yf\n",
    "%matplotlib inline\n",
    "import requests\n",
    "from alpha_vantage.timeseries import TimeSeries"
   ]
  },
  {
   "cell_type": "code",
   "execution_count": 3,
   "id": "97b628d3-ce03-4e92-ad08-739b6895be55",
   "metadata": {},
   "outputs": [],
   "source": [
    "start = pd.to_datetime('2023-01-01')\n",
    "end = pd.to_datetime('2024-01-01')"
   ]
  },
  {
   "cell_type": "code",
   "execution_count": 7,
   "id": "32121093-01d1-447b-a103-6310e3d438bd",
   "metadata": {},
   "outputs": [],
   "source": [
    "API_KEY = 'M36439L1I214K8I0'"
   ]
  },
  {
   "cell_type": "code",
   "execution_count": 9,
   "id": "a5bf283e-4a41-4c05-a8da-ec8898c8b596",
   "metadata": {},
   "outputs": [],
   "source": [
    "ts = TimeSeries(key=API_KEY, output_format='pandas')"
   ]
  },
  {
   "cell_type": "code",
   "execution_count": 13,
   "id": "029772f4-c732-4e31-8c59-cea091aeb800",
   "metadata": {},
   "outputs": [
    {
     "ename": "AttributeError",
     "evalue": "'tuple' object has no attribute 'plot'",
     "output_type": "error",
     "traceback": [
      "\u001b[1;31m---------------------------------------------------------------------------\u001b[0m",
      "\u001b[1;31mAttributeError\u001b[0m                            Traceback (most recent call last)",
      "Cell \u001b[1;32mIn[13], line 2\u001b[0m\n\u001b[0;32m      1\u001b[0m aapl \u001b[38;5;241m=\u001b[39m ts\u001b[38;5;241m.\u001b[39mget_monthly_adjusted(\u001b[38;5;124m'\u001b[39m\u001b[38;5;124mAAPL\u001b[39m\u001b[38;5;124m'\u001b[39m)\n\u001b[1;32m----> 2\u001b[0m aapl\u001b[38;5;241m.\u001b[39mplot()\n",
      "\u001b[1;31mAttributeError\u001b[0m: 'tuple' object has no attribute 'plot'"
     ]
    }
   ],
   "source": [
    "aapl = ts.get_monthly_adjusted('AAPL')"
   ]
  },
  {
   "cell_type": "code",
   "execution_count": 15,
   "id": "9dd28fa8-1e54-433a-b920-d80ad8998719",
   "metadata": {},
   "outputs": [
    {
     "data": {
      "text/plain": [
       "(            1. open  2. high  3. low  4. close  5. adjusted close  \\\n",
       " date                                                                \n",
       " 2024-10-15   229.52   237.49  221.33    233.85           233.8500   \n",
       " 2024-09-30   228.55   233.09  213.92    233.00           233.0000   \n",
       " 2024-08-30   224.37   232.92  196.00    229.00           229.0000   \n",
       " 2024-07-31   212.09   237.23  211.92    222.08           221.8251   \n",
       " 2024-06-28   192.90   220.20  192.15    210.62           210.3782   \n",
       " ...             ...      ...     ...       ...                ...   \n",
       " 2000-04-28   135.50   139.50  104.87    124.06             0.9353   \n",
       " 2000-03-31   118.56   150.38  114.00    135.81             1.0239   \n",
       " 2000-02-29   104.00   119.94   97.00    114.62             0.8642   \n",
       " 2000-01-31   104.87   121.50   86.50    103.75             0.7822   \n",
       " 1999-12-31   101.00   118.00   91.06    102.81             0.7751   \n",
       " \n",
       "                6. volume  7. dividend amount  \n",
       " date                                          \n",
       " 2024-10-15  4.370832e+08                0.00  \n",
       " 2024-09-30  1.231814e+09                0.00  \n",
       " 2024-08-30  1.122667e+09                0.25  \n",
       " 2024-07-31  1.153193e+09                0.00  \n",
       " 2024-06-28  1.723984e+09                0.00  \n",
       " ...                  ...                 ...  \n",
       " 2000-04-28  7.734290e+07                0.00  \n",
       " 2000-03-31  7.766390e+07                0.00  \n",
       " 2000-02-29  6.535520e+07                0.00  \n",
       " 2000-01-31  1.120998e+08                0.00  \n",
       " 1999-12-31  8.409120e+07                0.00  \n",
       " \n",
       " [299 rows x 7 columns],\n",
       " {'1. Information': 'Monthly Adjusted Prices and Volumes',\n",
       "  '2. Symbol': 'AAPL',\n",
       "  '3. Last Refreshed': '2024-10-15',\n",
       "  '4. Time Zone': 'US/Eastern'})"
      ]
     },
     "execution_count": 15,
     "metadata": {},
     "output_type": "execute_result"
    }
   ],
   "source": [
    "aapl"
   ]
  },
  {
   "cell_type": "code",
   "execution_count": null,
   "id": "c55bd383-9fd1-4a5f-88f3-65c41fc9001e",
   "metadata": {},
   "outputs": [],
   "source": []
  }
 ],
 "metadata": {
  "kernelspec": {
   "display_name": "Python 3 (ipykernel)",
   "language": "python",
   "name": "python3"
  },
  "language_info": {
   "codemirror_mode": {
    "name": "ipython",
    "version": 3
   },
   "file_extension": ".py",
   "mimetype": "text/x-python",
   "name": "python",
   "nbconvert_exporter": "python",
   "pygments_lexer": "ipython3",
   "version": "3.12.4"
  }
 },
 "nbformat": 4,
 "nbformat_minor": 5
}
