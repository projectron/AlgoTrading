{
 "cells": [
  {
   "cell_type": "code",
   "execution_count": 7,
   "id": "c85eaf0b-3ed6-4d59-85bc-07fd06365f8e",
   "metadata": {},
   "outputs": [],
   "source": [
    "import pandas as pd\n",
    "import quandl\n",
    "import yfinance as yf\n",
    "import matplotlib.pyplot as plt\n",
    "import requests\n",
    "import finnhub\n",
    "%matplotlib inline"
   ]
  },
  {
   "cell_type": "code",
   "execution_count": 2,
   "id": "0e67e40f-cb65-4e9d-9bad-b20fb9f614a4",
   "metadata": {},
   "outputs": [],
   "source": [
    "start = pd.to_datetime('2023-01-01')\n",
    "end = pd.to_datetime('2024-01-01')"
   ]
  },
  {
   "cell_type": "code",
   "execution_count": 17,
   "id": "8ef34b2d-0782-4098-89d1-fb9214e160ff",
   "metadata": {},
   "outputs": [
    {
     "name": "stdout",
     "output_type": "stream",
     "text": [
      "Defaulting to user installation because normal site-packages is not writeable\n",
      "Requirement already satisfied: yfinance in c:\\users\\sunee\\appdata\\roaming\\python\\python313\\site-packages (0.2.44)\n",
      "Requirement already satisfied: pandas>=1.3.0 in c:\\users\\sunee\\appdata\\roaming\\python\\python313\\site-packages (from yfinance) (2.2.3)\n",
      "Requirement already satisfied: numpy>=1.16.5 in c:\\users\\sunee\\appdata\\roaming\\python\\python313\\site-packages (from yfinance) (2.1.2)\n",
      "Requirement already satisfied: requests>=2.31 in c:\\users\\sunee\\appdata\\roaming\\python\\python313\\site-packages (from yfinance) (2.32.3)\n",
      "Requirement already satisfied: multitasking>=0.0.7 in c:\\users\\sunee\\appdata\\roaming\\python\\python313\\site-packages (from yfinance) (0.0.11)\n",
      "Requirement already satisfied: lxml>=4.9.1 in c:\\users\\sunee\\appdata\\roaming\\python\\python313\\site-packages (from yfinance) (5.3.0)\n",
      "Requirement already satisfied: platformdirs>=2.0.0 in c:\\program files\\python313\\lib\\site-packages (from yfinance) (4.3.6)\n",
      "Requirement already satisfied: pytz>=2022.5 in c:\\users\\sunee\\appdata\\roaming\\python\\python313\\site-packages (from yfinance) (2024.2)\n",
      "Requirement already satisfied: frozendict>=2.3.4 in c:\\users\\sunee\\appdata\\roaming\\python\\python313\\site-packages (from yfinance) (2.4.6)\n",
      "Requirement already satisfied: peewee>=3.16.2 in c:\\users\\sunee\\appdata\\roaming\\python\\python313\\site-packages (from yfinance) (3.17.6)\n",
      "Requirement already satisfied: beautifulsoup4>=4.11.1 in c:\\users\\sunee\\appdata\\roaming\\python\\python313\\site-packages (from yfinance) (4.12.3)\n",
      "Requirement already satisfied: html5lib>=1.1 in c:\\users\\sunee\\appdata\\roaming\\python\\python313\\site-packages (from yfinance) (1.1)\n",
      "Requirement already satisfied: soupsieve>1.2 in c:\\users\\sunee\\appdata\\roaming\\python\\python313\\site-packages (from beautifulsoup4>=4.11.1->yfinance) (2.6)\n",
      "Requirement already satisfied: six>=1.9 in c:\\program files\\python313\\lib\\site-packages (from html5lib>=1.1->yfinance) (1.16.0)\n",
      "Requirement already satisfied: webencodings in c:\\users\\sunee\\appdata\\roaming\\python\\python313\\site-packages (from html5lib>=1.1->yfinance) (0.5.1)\n",
      "Requirement already satisfied: python-dateutil>=2.8.2 in c:\\program files\\python313\\lib\\site-packages (from pandas>=1.3.0->yfinance) (2.9.0.post0)\n",
      "Requirement already satisfied: tzdata>=2022.7 in c:\\users\\sunee\\appdata\\roaming\\python\\python313\\site-packages (from pandas>=1.3.0->yfinance) (2024.2)\n",
      "Requirement already satisfied: charset-normalizer<4,>=2 in c:\\users\\sunee\\appdata\\roaming\\python\\python313\\site-packages (from requests>=2.31->yfinance) (3.4.0)\n",
      "Requirement already satisfied: idna<4,>=2.5 in c:\\program files\\python313\\lib\\site-packages (from requests>=2.31->yfinance) (3.10)\n",
      "Requirement already satisfied: urllib3<3,>=1.21.1 in c:\\users\\sunee\\appdata\\roaming\\python\\python313\\site-packages (from requests>=2.31->yfinance) (2.2.3)\n",
      "Requirement already satisfied: certifi>=2017.4.17 in c:\\program files\\python313\\lib\\site-packages (from requests>=2.31->yfinance) (2024.8.30)\n",
      "Note: you may need to restart the kernel to use updated packages.\n"
     ]
    }
   ],
   "source": [
    "pip install yfinance --upgrade --no-cache-dir"
   ]
  },
  {
   "cell_type": "code",
   "execution_count": null,
   "id": "d85093f1-d360-4209-ab9e-db5f8563a80c",
   "metadata": {},
   "outputs": [],
   "source": [
    "aapl = yf.download('AAPL',start,end)\n",
    "tesla= yf.download('TSLA',start,end)\n",
    "ibm = yf.download('IBM',start,end)\n",
    "amzn = yf.download('AMZN',start,end)\n",
    "\n",
    "#aapl = quandl.get('WIKI/AAPL.11',start_date=start,end_date=end)\n",
    "#cisco = quandl.get('WIKI/CSCO.11',start_date=start,end_date=end)\n",
    "#ibm = quandl.get('WIKI/IBM.11',start_date=start,end_date=end)\n",
    "#amz = quandl.get('WIKI/AMZN.11',start_date=start,end_date=end)"
   ]
  },
  {
   "cell_type": "code",
   "execution_count": 15,
   "id": "23252737-7a3a-4457-8cba-b4032cf2aed1",
   "metadata": {},
   "outputs": [
    {
     "data": {
      "text/html": [
       "<div>\n",
       "<style scoped>\n",
       "    .dataframe tbody tr th:only-of-type {\n",
       "        vertical-align: middle;\n",
       "    }\n",
       "\n",
       "    .dataframe tbody tr th {\n",
       "        vertical-align: top;\n",
       "    }\n",
       "\n",
       "    .dataframe thead th {\n",
       "        text-align: right;\n",
       "    }\n",
       "</style>\n",
       "<table border=\"1\" class=\"dataframe\">\n",
       "  <thead>\n",
       "    <tr style=\"text-align: right;\">\n",
       "      <th></th>\n",
       "      <th>Open</th>\n",
       "      <th>High</th>\n",
       "      <th>Low</th>\n",
       "      <th>Close</th>\n",
       "      <th>Adj Close</th>\n",
       "      <th>Volume</th>\n",
       "    </tr>\n",
       "    <tr>\n",
       "      <th>Date</th>\n",
       "      <th></th>\n",
       "      <th></th>\n",
       "      <th></th>\n",
       "      <th></th>\n",
       "      <th></th>\n",
       "      <th></th>\n",
       "    </tr>\n",
       "  </thead>\n",
       "  <tbody>\n",
       "  </tbody>\n",
       "</table>\n",
       "</div>"
      ],
      "text/plain": [
       "Empty DataFrame\n",
       "Columns: [Open, High, Low, Close, Adj Close, Volume]\n",
       "Index: []"
      ]
     },
     "execution_count": 15,
     "metadata": {},
     "output_type": "execute_result"
    }
   ],
   "source": [
    "aapl.tail()"
   ]
  },
  {
   "cell_type": "code",
   "execution_count": null,
   "id": "6c49262e-e4d2-45ea-86bc-5c44888c7ff5",
   "metadata": {},
   "outputs": [],
   "source": [
    "aapl.plot(figsize=(16,5))"
   ]
  },
  {
   "cell_type": "code",
   "execution_count": null,
   "id": "e977ffc8-095d-4097-977f-e8246a224a90",
   "metadata": {},
   "outputs": [],
   "source": [
    "aapl.iloc[0]['Adj Close']"
   ]
  },
  {
   "cell_type": "code",
   "execution_count": null,
   "id": "7657114b-0a4b-494b-85eb-5eba454023d0",
   "metadata": {},
   "outputs": [],
   "source": [
    "aapl.head()"
   ]
  },
  {
   "cell_type": "code",
   "execution_count": null,
   "id": "db883617-5d87-4118-947a-acafdd38d8f6",
   "metadata": {},
   "outputs": [],
   "source": [
    "for stock_df in (aapl,csco,ibm,amzn):\n",
    "    stock_df['Normed Return'] = stock_df['Adj Close']/stock_df.iloc[0]['Adj Close']"
   ]
  },
  {
   "cell_type": "code",
   "execution_count": null,
   "id": "b314d838-a100-4462-a906-ad4bd7c8bc31",
   "metadata": {},
   "outputs": [],
   "source": [
    "aapl.head()"
   ]
  },
  {
   "cell_type": "code",
   "execution_count": null,
   "id": "04c2cc00-fb0c-4af2-bc7a-6a65f4f80541",
   "metadata": {},
   "outputs": [],
   "source": [
    "aapl[['Adj Close','Normed Return']]"
   ]
  },
  {
   "cell_type": "code",
   "execution_count": null,
   "id": "583c0f00-5a18-48c8-9829-27ebc27e1985",
   "metadata": {},
   "outputs": [],
   "source": [
    "## Alloaction of the portfolio\n",
    "\n",
    "# 30% in APPLE\n",
    "# 20% in IBM\n",
    "# 20% in CISCO\n",
    "# 30% in Amazon\n",
    "\n",
    "for stock_df, allo in zip((aapl,csco,ibm,amzn),[.3,.2,.2,.3]):\n",
    "    stock_df['Allocation']=stock_df['Normed Return'] * allo"
   ]
  },
  {
   "cell_type": "code",
   "execution_count": null,
   "id": "8b4eb56a-b0ad-4d4f-ad38-345d47ba9a3a",
   "metadata": {},
   "outputs": [],
   "source": [
    "aapl.head()"
   ]
  },
  {
   "cell_type": "code",
   "execution_count": null,
   "id": "7f8a07dc-9c2c-421d-8f14-4837336d71b3",
   "metadata": {},
   "outputs": [],
   "source": [
    "aapl[['Adj Close','Normed Return','Allocation']]"
   ]
  },
  {
   "cell_type": "code",
   "execution_count": null,
   "id": "0a794646-9dc9-43d6-b859-d774199eeccd",
   "metadata": {},
   "outputs": [],
   "source": [
    "# Position values or the money gained or lost per million\n",
    "\n",
    "for stock_df in (aapl,csco,ibm,amzn):\n",
    "    stock_df['Position Values'] = stock_df['Allocation'] * 1000000"
   ]
  },
  {
   "cell_type": "code",
   "execution_count": null,
   "id": "ffe9b60b-a9be-4f6e-a640-65134357b166",
   "metadata": {},
   "outputs": [],
   "source": [
    "aapl.head()"
   ]
  },
  {
   "cell_type": "code",
   "execution_count": null,
   "id": "1f52a8c9-1af3-480f-a7b6-d4fe8de0ad77",
   "metadata": {},
   "outputs": [],
   "source": [
    "aapl.tail()"
   ]
  },
  {
   "cell_type": "code",
   "execution_count": null,
   "id": "0bcc285d-8a87-4db3-bc98-9e68c481f629",
   "metadata": {},
   "outputs": [],
   "source": [
    "aapl"
   ]
  },
  {
   "cell_type": "code",
   "execution_count": null,
   "id": "6679e278-ccd4-44f7-a139-c1d607a42ac2",
   "metadata": {},
   "outputs": [],
   "source": [
    "aapl"
   ]
  },
  {
   "cell_type": "code",
   "execution_count": null,
   "id": "750fb51b-6a85-4609-9041-7cec20f9d129",
   "metadata": {},
   "outputs": [],
   "source": [
    "csco.plot()"
   ]
  },
  {
   "cell_type": "code",
   "execution_count": null,
   "id": "f4d10604-6459-4886-807f-4946f710ae8f",
   "metadata": {},
   "outputs": [],
   "source": []
  }
 ],
 "metadata": {
  "kernelspec": {
   "display_name": "pykerna1l3.13",
   "language": "python",
   "name": "pykerna1l3.13"
  },
  "language_info": {
   "codemirror_mode": {
    "name": "ipython",
    "version": 3
   },
   "file_extension": ".py",
   "mimetype": "text/x-python",
   "name": "python",
   "nbconvert_exporter": "python",
   "pygments_lexer": "ipython3",
   "version": "3.13.0"
  }
 },
 "nbformat": 4,
 "nbformat_minor": 5
}
