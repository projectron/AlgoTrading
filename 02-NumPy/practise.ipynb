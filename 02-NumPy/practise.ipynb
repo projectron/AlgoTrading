{
 "cells": [
  {
   "cell_type": "code",
   "execution_count": 3,
   "id": "6d383c34-a8f0-4f9b-9b18-33cf3afcf093",
   "metadata": {},
   "outputs": [],
   "source": [
    "import numpy as np"
   ]
  },
  {
   "cell_type": "code",
   "execution_count": 2,
   "id": "71e58e6b-3fe7-41f4-ab8b-51b2164fc01b",
   "metadata": {},
   "outputs": [],
   "source": [
    "my_list = [1,2,3,54,5,6]"
   ]
  },
  {
   "cell_type": "code",
   "execution_count": 4,
   "id": "27e37d67-5273-472f-86fc-3cedf11722dd",
   "metadata": {},
   "outputs": [],
   "source": [
    "x = np.array(my_list)"
   ]
  },
  {
   "cell_type": "code",
   "execution_count": 5,
   "id": "3e468d57-60ed-41fd-8f0a-cf5d67ae2748",
   "metadata": {},
   "outputs": [
    {
     "data": {
      "text/plain": [
       "numpy.ndarray"
      ]
     },
     "execution_count": 5,
     "metadata": {},
     "output_type": "execute_result"
    }
   ],
   "source": [
    "type(x)"
   ]
  },
  {
   "cell_type": "code",
   "execution_count": 6,
   "id": "b1e35fe0-ca6b-4dbd-8953-01bc958a5017",
   "metadata": {},
   "outputs": [],
   "source": [
    "my_matrix = [[1,2,4], [3,4,5], [7,8,9]]"
   ]
  },
  {
   "cell_type": "code",
   "execution_count": 7,
   "id": "3edcae43-2e59-45ae-ae9e-7d2836c5d9a6",
   "metadata": {},
   "outputs": [
    {
     "data": {
      "text/plain": [
       "array([[1, 2, 4],\n",
       "       [3, 4, 5],\n",
       "       [7, 8, 9]])"
      ]
     },
     "execution_count": 7,
     "metadata": {},
     "output_type": "execute_result"
    }
   ],
   "source": [
    "np.array(my_matrix) # basically finance data is 2D"
   ]
  },
  {
   "cell_type": "code",
   "execution_count": 8,
   "id": "38979c9a-529e-4971-a1dd-a075ec2cf2ee",
   "metadata": {},
   "outputs": [
    {
     "data": {
      "text/plain": [
       "[0, 1, 2, 3, 4]"
      ]
     },
     "execution_count": 8,
     "metadata": {},
     "output_type": "execute_result"
    }
   ],
   "source": [
    "list(range(0,5))"
   ]
  },
  {
   "cell_type": "code",
   "execution_count": 9,
   "id": "c405c1db-156d-4cc8-9353-e6882433fc7a",
   "metadata": {},
   "outputs": [
    {
     "data": {
      "text/plain": [
       "array([0, 1, 2, 3, 4])"
      ]
     },
     "execution_count": 9,
     "metadata": {},
     "output_type": "execute_result"
    }
   ],
   "source": [
    "np.arange(0,5)"
   ]
  },
  {
   "cell_type": "code",
   "execution_count": 10,
   "id": "c80b2b2d-fb7b-4c65-aeef-23c4aa98c4a4",
   "metadata": {},
   "outputs": [
    {
     "data": {
      "text/plain": [
       "array([0., 0., 0., 0.])"
      ]
     },
     "execution_count": 10,
     "metadata": {},
     "output_type": "execute_result"
    }
   ],
   "source": [
    "np.zeros(4) # floating point always "
   ]
  },
  {
   "cell_type": "code",
   "execution_count": 12,
   "id": "98ec2979-1fae-4933-9665-392fdea6e194",
   "metadata": {},
   "outputs": [
    {
     "data": {
      "text/plain": [
       "array([[0., 0., 0., 0., 0.],\n",
       "       [0., 0., 0., 0., 0.],\n",
       "       [0., 0., 0., 0., 0.]])"
      ]
     },
     "execution_count": 12,
     "metadata": {},
     "output_type": "execute_result"
    }
   ],
   "source": [
    "np.zeros((3,5))"
   ]
  },
  {
   "cell_type": "code",
   "execution_count": 13,
   "id": "89d8f961-8709-4bf4-86a8-7cf8133fb375",
   "metadata": {},
   "outputs": [
    {
     "data": {
      "text/plain": [
       "array([1., 1., 1., 1.])"
      ]
     },
     "execution_count": 13,
     "metadata": {},
     "output_type": "execute_result"
    }
   ],
   "source": [
    "np.ones(4)"
   ]
  },
  {
   "cell_type": "code",
   "execution_count": 14,
   "id": "458853c9-d450-4764-b4ae-d7b1b8ed3828",
   "metadata": {},
   "outputs": [
    {
     "data": {
      "text/plain": [
       "array([[1., 1., 1., 1., 1., 1.],\n",
       "       [1., 1., 1., 1., 1., 1.]])"
      ]
     },
     "execution_count": 14,
     "metadata": {},
     "output_type": "execute_result"
    }
   ],
   "source": [
    "np.ones((2,6))"
   ]
  },
  {
   "cell_type": "code",
   "execution_count": 18,
   "id": "e9a6c47f-bb26-4602-b759-ccbe0a0cdb08",
   "metadata": {},
   "outputs": [
    {
     "data": {
      "text/plain": [
       "array([1. , 1.5, 2. , 2.5, 3. ])"
      ]
     },
     "execution_count": 18,
     "metadata": {},
     "output_type": "execute_result"
    }
   ],
   "source": [
    "np.linspace(1,3,5) # gives evenly spaced numbers"
   ]
  },
  {
   "cell_type": "code",
   "execution_count": 19,
   "id": "338840b8-733e-43a1-ad69-d3b60563e012",
   "metadata": {},
   "outputs": [
    {
     "data": {
      "text/plain": [
       "array([[1., 0., 0., 0.],\n",
       "       [0., 1., 0., 0.],\n",
       "       [0., 0., 1., 0.],\n",
       "       [0., 0., 0., 1.]])"
      ]
     },
     "execution_count": 19,
     "metadata": {},
     "output_type": "execute_result"
    }
   ],
   "source": [
    "np.eye(4) # square matrix - same number of the rows and columns "
   ]
  },
  {
   "cell_type": "code",
   "execution_count": 20,
   "id": "3c6352eb-b6bb-4c3f-99b9-1b66dcdf184e",
   "metadata": {},
   "outputs": [
    {
     "data": {
      "text/plain": [
       "array([0.22254403, 0.62915428, 0.10924002, 0.07178874])"
      ]
     },
     "execution_count": 20,
     "metadata": {},
     "output_type": "execute_result"
    }
   ],
   "source": [
    "np.random.rand(4) # give number between 0 and 1"
   ]
  },
  {
   "cell_type": "code",
   "execution_count": 21,
   "id": "6b98d516-f321-49a8-b6b3-dce9299b553a",
   "metadata": {},
   "outputs": [
    {
     "data": {
      "text/plain": [
       "array([[0.96912342, 0.1164757 ],\n",
       "       [0.04153515, 0.16846457]])"
      ]
     },
     "execution_count": 21,
     "metadata": {},
     "output_type": "execute_result"
    }
   ],
   "source": [
    "np.random.rand(2,2)"
   ]
  },
  {
   "cell_type": "code",
   "execution_count": 22,
   "id": "a5c96a22-5e62-47ac-9bac-9d577b31e67d",
   "metadata": {},
   "outputs": [
    {
     "data": {
      "text/plain": [
       "array([ 0.0646563 , -0.36024503,  0.77384036, -0.50861085,  0.50580868])"
      ]
     },
     "execution_count": 22,
     "metadata": {},
     "output_type": "execute_result"
    }
   ],
   "source": [
    "np.random.randn(5) # 5 numbers chosen from the random normal distribution"
   ]
  },
  {
   "cell_type": "code",
   "execution_count": 23,
   "id": "c0aec3de-1064-4674-a49e-d1b6d0d2d0c2",
   "metadata": {},
   "outputs": [
    {
     "data": {
      "text/plain": [
       "70"
      ]
     },
     "execution_count": 23,
     "metadata": {},
     "output_type": "execute_result"
    }
   ],
   "source": [
    "np.random.randint(1,100)"
   ]
  },
  {
   "cell_type": "code",
   "execution_count": 25,
   "id": "ca71d1b5-40f5-4e77-96c3-381dfc31e240",
   "metadata": {},
   "outputs": [
    {
     "data": {
      "text/plain": [
       "array([28, 57, 37, 79, 63])"
      ]
     },
     "execution_count": 25,
     "metadata": {},
     "output_type": "execute_result"
    }
   ],
   "source": [
    "np.random.randint(1,100,5)# gives five random numbers"
   ]
  },
  {
   "cell_type": "code",
   "execution_count": 26,
   "id": "a974caba-007c-40a3-be28-fecdd375888a",
   "metadata": {},
   "outputs": [],
   "source": [
    "arr = np.arange(1,10)\n",
    "ranarr = np.random.randint(1,10,8)"
   ]
  },
  {
   "cell_type": "code",
   "execution_count": 27,
   "id": "e389a9a7-b5ab-4ba0-a60d-a3a8dd8a299b",
   "metadata": {},
   "outputs": [
    {
     "data": {
      "text/plain": [
       "array([1, 2, 3, 4, 5, 6, 7, 8, 9])"
      ]
     },
     "execution_count": 27,
     "metadata": {},
     "output_type": "execute_result"
    }
   ],
   "source": [
    "arr"
   ]
  },
  {
   "cell_type": "code",
   "execution_count": 29,
   "id": "47c16491-c2cf-4886-872c-a0a82453b5d2",
   "metadata": {},
   "outputs": [
    {
     "data": {
      "text/plain": [
       "array([7, 8, 6, 4, 1, 9, 3, 2])"
      ]
     },
     "execution_count": 29,
     "metadata": {},
     "output_type": "execute_result"
    }
   ],
   "source": [
    "ranarr"
   ]
  },
  {
   "cell_type": "code",
   "execution_count": 32,
   "id": "925c9d0c-b9d6-4c9a-a9ef-40012ebc7c8e",
   "metadata": {},
   "outputs": [
    {
     "data": {
      "text/plain": [
       "array([[1, 2, 3],\n",
       "       [4, 5, 6],\n",
       "       [7, 8, 9]])"
      ]
     },
     "execution_count": 32,
     "metadata": {},
     "output_type": "execute_result"
    }
   ],
   "source": [
    "arr.reshape(3,3)"
   ]
  },
  {
   "cell_type": "code",
   "execution_count": 34,
   "id": "40ad0c92-f222-44ac-9807-f687e799050d",
   "metadata": {},
   "outputs": [
    {
     "data": {
      "text/plain": [
       "(9,)"
      ]
     },
     "execution_count": 34,
     "metadata": {},
     "output_type": "execute_result"
    }
   ],
   "source": [
    "arr.shape"
   ]
  },
  {
   "cell_type": "code",
   "execution_count": 35,
   "id": "22946724-fb90-4b29-95bb-5da40ee63edf",
   "metadata": {},
   "outputs": [
    {
     "data": {
      "text/plain": [
       "(3, 3)"
      ]
     },
     "execution_count": 35,
     "metadata": {},
     "output_type": "execute_result"
    }
   ],
   "source": [
    "arr.reshape(3,3).shape"
   ]
  },
  {
   "cell_type": "code",
   "execution_count": 40,
   "id": "bb587b79-ac24-4007-b285-45c8499cd5a5",
   "metadata": {},
   "outputs": [
    {
     "data": {
      "text/plain": [
       "(9, 1)"
      ]
     },
     "execution_count": 40,
     "metadata": {},
     "output_type": "execute_result"
    }
   ],
   "source": [
    "arr.reshape(9,1).shape"
   ]
  },
  {
   "cell_type": "code",
   "execution_count": 41,
   "id": "2a6b81f7-6110-46bd-ad08-6f0291489954",
   "metadata": {},
   "outputs": [
    {
     "data": {
      "text/plain": [
       "9"
      ]
     },
     "execution_count": 41,
     "metadata": {},
     "output_type": "execute_result"
    }
   ],
   "source": [
    "arr.max()"
   ]
  },
  {
   "cell_type": "code",
   "execution_count": 44,
   "id": "ecc1012e-0d3b-405e-b8a3-a84275bca842",
   "metadata": {},
   "outputs": [
    {
     "data": {
      "text/plain": [
       "8"
      ]
     },
     "execution_count": 44,
     "metadata": {},
     "output_type": "execute_result"
    }
   ],
   "source": [
    "arr.argmax() # index value of the maximum value"
   ]
  },
  {
   "cell_type": "code",
   "execution_count": 45,
   "id": "7e21af16-d864-43e4-a982-bac289c84fcf",
   "metadata": {},
   "outputs": [],
   "source": [
    "# numpy array differs from normal ones because of the ability to broadcast"
   ]
  },
  {
   "cell_type": "code",
   "execution_count": 49,
   "id": "e51d84ea-5169-4886-b41f-3a8b7a8eb5e5",
   "metadata": {},
   "outputs": [],
   "source": [
    "arr1 = np.arange(1,20)"
   ]
  },
  {
   "cell_type": "code",
   "execution_count": 50,
   "id": "f0eafbea-0e75-4eb3-82f7-1593443fb7ae",
   "metadata": {},
   "outputs": [
    {
     "data": {
      "text/plain": [
       "array([ 1,  2,  3,  4,  5,  6,  7,  8,  9, 10, 11, 12, 13, 14, 15, 16, 17,\n",
       "       18, 19])"
      ]
     },
     "execution_count": 50,
     "metadata": {},
     "output_type": "execute_result"
    }
   ],
   "source": [
    "arr1"
   ]
  },
  {
   "cell_type": "code",
   "execution_count": 51,
   "id": "143cf925-cebc-47f0-af5b-60582f7dd74f",
   "metadata": {},
   "outputs": [],
   "source": [
    "slice_of_arr1 = arr1[1:6]"
   ]
  },
  {
   "cell_type": "code",
   "execution_count": 52,
   "id": "06a9028f-05d6-4c69-bb2b-4ecf58490675",
   "metadata": {},
   "outputs": [
    {
     "data": {
      "text/plain": [
       "array([2, 3, 4, 5, 6])"
      ]
     },
     "execution_count": 52,
     "metadata": {},
     "output_type": "execute_result"
    }
   ],
   "source": [
    "slice_of_arr1"
   ]
  },
  {
   "cell_type": "code",
   "execution_count": 53,
   "id": "8422d0a3-c7a6-412a-ba07-a7b04165e3d4",
   "metadata": {},
   "outputs": [],
   "source": [
    "slice_of_arr1[:] = 100 # this is broadcasting."
   ]
  },
  {
   "cell_type": "code",
   "execution_count": 54,
   "id": "c9405409-75be-4ce7-b856-b8d1c671dd50",
   "metadata": {},
   "outputs": [
    {
     "data": {
      "text/plain": [
       "array([100, 100, 100, 100, 100])"
      ]
     },
     "execution_count": 54,
     "metadata": {},
     "output_type": "execute_result"
    }
   ],
   "source": [
    "slice_of_arr1"
   ]
  },
  {
   "cell_type": "code",
   "execution_count": 55,
   "id": "a0c4ed2c-f0cb-4c19-b2d4-87191925f5c2",
   "metadata": {},
   "outputs": [
    {
     "data": {
      "text/plain": [
       "array([False, False, False, False,  True,  True,  True,  True,  True])"
      ]
     },
     "execution_count": 55,
     "metadata": {},
     "output_type": "execute_result"
    }
   ],
   "source": [
    "# Conditional selections\n",
    "arr > 4"
   ]
  },
  {
   "cell_type": "code",
   "execution_count": 56,
   "id": "e067e476-fca7-48c3-911b-ae90d3b5bcdf",
   "metadata": {},
   "outputs": [],
   "source": [
    "bool_arr = arr > 4"
   ]
  },
  {
   "cell_type": "code",
   "execution_count": 57,
   "id": "db31b1c6-a99c-486d-bfec-1183e3b685d7",
   "metadata": {},
   "outputs": [
    {
     "data": {
      "text/plain": [
       "array([False, False, False, False,  True,  True,  True,  True,  True])"
      ]
     },
     "execution_count": 57,
     "metadata": {},
     "output_type": "execute_result"
    }
   ],
   "source": [
    "bool_arr"
   ]
  },
  {
   "cell_type": "code",
   "execution_count": null,
   "id": "88d32e6e-c01e-4b2d-a9f8-f0919fdf59ed",
   "metadata": {},
   "outputs": [],
   "source": []
  }
 ],
 "metadata": {
  "kernelspec": {
   "display_name": "Python 3 (ipykernel)",
   "language": "python",
   "name": "python3"
  },
  "language_info": {
   "codemirror_mode": {
    "name": "ipython",
    "version": 3
   },
   "file_extension": ".py",
   "mimetype": "text/x-python",
   "name": "python",
   "nbconvert_exporter": "python",
   "pygments_lexer": "ipython3",
   "version": "3.11.4"
  }
 },
 "nbformat": 4,
 "nbformat_minor": 5
}
